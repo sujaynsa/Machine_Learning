{
  "nbformat": 4,
  "nbformat_minor": 0,
  "metadata": {
    "colab": {
      "name": "san440_ML_Final_Project.ipynb",
      "provenance": [],
      "collapsed_sections": [],
      "toc_visible": true
    },
    "kernelspec": {
      "name": "python3",
      "display_name": "Python 3"
    }
  },
  "cells": [
    {
      "cell_type": "markdown",
      "metadata": {
        "id": "pIYbR7-PNYfr"
      },
      "source": [
        "# **RpLidar Object Detection using Convolutional and Deep Neural Networks**\r\n",
        "\r\n",
        "# **Sole Contributor : Sujay Nayak Anil (san440)**\r\n",
        "\r\n",
        "**Objective :**\r\n",
        "\r\n",
        "To detect the presence of a desired object using RPLIDAR to aid in robot navigation and localization.\r\n",
        "\r\n",
        "**Main idea :**\r\n",
        "\r\n",
        "RPLIDAR is a low cost LIDAR sensor which provides a 360 degree scan field. Based on the resolution of 360 degree scan, a number of location pings are observed from the field scan. \r\n",
        "\r\n",
        "The goal is to predict the outputs y1 and y2 denoting the boundaries of the desired object on the Lidar map if the object was found to be present in the current scene. \r\n",
        "\r\n",
        "**y1** - Angle, theta 1 corresponding to the left most end of the object\r\n",
        "\r\n",
        "**y2** - Angle, theta 2 corresponding to the right most end of the object \r\n",
        "\r\n",
        "**Execution :**\r\n",
        "\r\n",
        "For use in the project, a sequence of synthetic data was generated simulating the environment in the Lidar workspace. \r\n",
        "\r\n",
        "![Capture.PNG](data:image/png;base64,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)\r\n",
        "\r\n",
        "The above shown image is an example of the data generated for the project.\r\n",
        "\r\n",
        "**Data format :**\r\n",
        "\r\n",
        "There are 180 input features. (x0 , x1 , x2 , ..... , x179 )  \r\n",
        "\r\n",
        "Each feature, xi indicating the distance ping from a detected object in the environment and the index, i indicating a corresponding azimuth angle in the scan field (where i = 0 => theta = 0 degrees ; i = 179 => theta = 179 degrees ) .\r\n",
        "\r\n",
        "In the generated synthetic data whenever the desired object is detected on the field scan, the corresponding target yi is updated to be binary 1 and binary 0 elsewhere.\r\n",
        "\r\n",
        "The data was generated in MATLAB and later, exported to a .csv file.\r\n",
        "\r\n",
        "First, the data is imported from the .csv files. The input features are scaled for better results."
      ]
    },
    {
      "cell_type": "code",
      "metadata": {
        "colab": {
          "base_uri": "https://localhost:8080/"
        },
        "id": "-fl3zxm-CKDT",
        "outputId": "e8ca64d4-b4a0-456e-dbef-0bdffe5a0eb7"
      },
      "source": [
        "import numpy as np\r\n",
        "import matplotlib.pyplot as plt\r\n",
        "import pandas as pd\r\n",
        "\r\n",
        "X = pd.read_csv(\"Xtr.csv\", sep=',',header=None)\r\n",
        "X = X.to_numpy()\r\n",
        "X_scal = X/10\r\n",
        "#X_scal = X_scal.reshape((X_scal.shape[0],X_scal.shape[1],1))\r\n",
        "\r\n",
        "Y = pd.read_csv(\"Ytr.csv\", sep=',',header=None)\r\n",
        "Y = Y.to_numpy()\r\n",
        "Y = Y.astype(\"uint8\")\r\n",
        "\r\n",
        "print(\"Dimensions of input features :\",X.shape)\r\n",
        "print(\"Dimensions of output features :\",Y.shape)"
      ],
      "execution_count": 168,
      "outputs": [
        {
          "output_type": "stream",
          "text": [
            "Dimensions of input features : (10000, 180)\n",
            "Dimensions of output features : (10000, 180)\n"
          ],
          "name": "stdout"
        }
      ]
    },
    {
      "cell_type": "code",
      "metadata": {
        "id": "QfMZpq3vrbBn"
      },
      "source": [
        "from sklearn.model_selection import train_test_split\r\n",
        "\r\n",
        "Xtr, Xts, ytr, yts = train_test_split(X_scal,Y, test_size=0.30)"
      ],
      "execution_count": 169,
      "outputs": []
    },
    {
      "cell_type": "markdown",
      "metadata": {
        "id": "F7z7FYOQaRVX"
      },
      "source": [
        "# Let us first try fitting a simpler neural network model to detect the presence of the desired object given the input features, x . **(In the case of our project, the desired object is a cube)**"
      ]
    },
    {
      "cell_type": "code",
      "metadata": {
        "colab": {
          "base_uri": "https://localhost:8080/"
        },
        "id": "1ajvWO-7qnoa",
        "outputId": "d7c5ae9e-746f-4163-93eb-89010ca41e83"
      },
      "source": [
        "from tensorflow.keras.models import Model, Sequential\r\n",
        "from tensorflow.keras.layers import Dense, Conv1D, MaxPooling1D, BatchNormalization, Dropout, Flatten\r\n",
        "import keras.backend as K\r\n",
        "\r\n",
        "num_inputs = 180\r\n",
        "num_outputs = 180\r\n",
        "\r\n",
        "K.clear_session()\r\n",
        "model = Sequential()\r\n",
        "model.add(Dense(units=180, input_shape=(num_inputs,), activation='sigmoid', name='hidden'))\r\n",
        "model.add(Dense(units=num_outputs, activation='sigmoid', name='output'))\r\n",
        "\r\n",
        "model.summary()"
      ],
      "execution_count": 170,
      "outputs": [
        {
          "output_type": "stream",
          "text": [
            "Model: \"sequential\"\n",
            "_________________________________________________________________\n",
            "Layer (type)                 Output Shape              Param #   \n",
            "=================================================================\n",
            "hidden (Dense)               (None, 180)               32580     \n",
            "_________________________________________________________________\n",
            "output (Dense)               (None, 180)               32580     \n",
            "=================================================================\n",
            "Total params: 65,160\n",
            "Trainable params: 65,160\n",
            "Non-trainable params: 0\n",
            "_________________________________________________________________\n"
          ],
          "name": "stdout"
        }
      ]
    },
    {
      "cell_type": "markdown",
      "metadata": {
        "id": "7Eua9kZzbh4V"
      },
      "source": [
        "Note : \r\n",
        "\r\n",
        "There are more number of trainable parameters than the number of available data samples. Hence, Convergence is not guaranteed."
      ]
    },
    {
      "cell_type": "code",
      "metadata": {
        "id": "AGsueUz4_Gl7"
      },
      "source": [
        "from tensorflow.keras import optimizers\r\n",
        "\r\n",
        "opt = optimizers.Adam(lr=0.001)\r\n",
        "model.compile(optimizer=opt,loss='binary_crossentropy')"
      ],
      "execution_count": 171,
      "outputs": []
    },
    {
      "cell_type": "markdown",
      "metadata": {
        "id": "dVSmyZrfcTOG"
      },
      "source": [
        "Fit the designed neural network to the given training data"
      ]
    },
    {
      "cell_type": "code",
      "metadata": {
        "colab": {
          "base_uri": "https://localhost:8080/"
        },
        "id": "q8Tev6xC_UzZ",
        "outputId": "499c1a61-d693-4c64-c377-c5f250f92634"
      },
      "source": [
        "hist = model.fit(Xtr, ytr, epochs=150, batch_size=100)"
      ],
      "execution_count": 172,
      "outputs": [
        {
          "output_type": "stream",
          "text": [
            "Epoch 1/150\n",
            "70/70 [==============================] - 0s 3ms/step - loss: 0.4505\n",
            "Epoch 2/150\n",
            "70/70 [==============================] - 0s 3ms/step - loss: 0.2275\n",
            "Epoch 3/150\n",
            "70/70 [==============================] - 0s 3ms/step - loss: 0.1376\n",
            "Epoch 4/150\n",
            "70/70 [==============================] - 0s 3ms/step - loss: 0.1116\n",
            "Epoch 5/150\n",
            "70/70 [==============================] - 0s 3ms/step - loss: 0.0993\n",
            "Epoch 6/150\n",
            "70/70 [==============================] - 0s 3ms/step - loss: 0.0908\n",
            "Epoch 7/150\n",
            "70/70 [==============================] - 0s 3ms/step - loss: 0.0840\n",
            "Epoch 8/150\n",
            "70/70 [==============================] - 0s 3ms/step - loss: 0.0780\n",
            "Epoch 9/150\n",
            "70/70 [==============================] - 0s 3ms/step - loss: 0.0727\n",
            "Epoch 10/150\n",
            "70/70 [==============================] - 0s 3ms/step - loss: 0.0681\n",
            "Epoch 11/150\n",
            "70/70 [==============================] - 0s 3ms/step - loss: 0.0640\n",
            "Epoch 12/150\n",
            "70/70 [==============================] - 0s 3ms/step - loss: 0.0603\n",
            "Epoch 13/150\n",
            "70/70 [==============================] - 0s 3ms/step - loss: 0.0571\n",
            "Epoch 14/150\n",
            "70/70 [==============================] - 0s 3ms/step - loss: 0.0544\n",
            "Epoch 15/150\n",
            "70/70 [==============================] - 0s 3ms/step - loss: 0.0521\n",
            "Epoch 16/150\n",
            "70/70 [==============================] - 0s 3ms/step - loss: 0.0498\n",
            "Epoch 17/150\n",
            "70/70 [==============================] - 0s 3ms/step - loss: 0.0479\n",
            "Epoch 18/150\n",
            "70/70 [==============================] - 0s 3ms/step - loss: 0.0463\n",
            "Epoch 19/150\n",
            "70/70 [==============================] - 0s 3ms/step - loss: 0.0449\n",
            "Epoch 20/150\n",
            "70/70 [==============================] - 0s 3ms/step - loss: 0.0436\n",
            "Epoch 21/150\n",
            "70/70 [==============================] - 0s 3ms/step - loss: 0.0425\n",
            "Epoch 22/150\n",
            "70/70 [==============================] - 0s 3ms/step - loss: 0.0414\n",
            "Epoch 23/150\n",
            "70/70 [==============================] - 0s 3ms/step - loss: 0.0404\n",
            "Epoch 24/150\n",
            "70/70 [==============================] - 0s 3ms/step - loss: 0.0396\n",
            "Epoch 25/150\n",
            "70/70 [==============================] - 0s 3ms/step - loss: 0.0388\n",
            "Epoch 26/150\n",
            "70/70 [==============================] - 0s 3ms/step - loss: 0.0380\n",
            "Epoch 27/150\n",
            "70/70 [==============================] - 0s 3ms/step - loss: 0.0373\n",
            "Epoch 28/150\n",
            "70/70 [==============================] - 0s 3ms/step - loss: 0.0367\n",
            "Epoch 29/150\n",
            "70/70 [==============================] - 0s 3ms/step - loss: 0.0360\n",
            "Epoch 30/150\n",
            "70/70 [==============================] - 0s 3ms/step - loss: 0.0355\n",
            "Epoch 31/150\n",
            "70/70 [==============================] - 0s 3ms/step - loss: 0.0349\n",
            "Epoch 32/150\n",
            "70/70 [==============================] - 0s 3ms/step - loss: 0.0343\n",
            "Epoch 33/150\n",
            "70/70 [==============================] - 0s 3ms/step - loss: 0.0339\n",
            "Epoch 34/150\n",
            "70/70 [==============================] - 0s 3ms/step - loss: 0.0334\n",
            "Epoch 35/150\n",
            "70/70 [==============================] - 0s 3ms/step - loss: 0.0329\n",
            "Epoch 36/150\n",
            "70/70 [==============================] - 0s 3ms/step - loss: 0.0324\n",
            "Epoch 37/150\n",
            "70/70 [==============================] - 0s 3ms/step - loss: 0.0321\n",
            "Epoch 38/150\n",
            "70/70 [==============================] - 0s 3ms/step - loss: 0.0317\n",
            "Epoch 39/150\n",
            "70/70 [==============================] - 0s 3ms/step - loss: 0.0312\n",
            "Epoch 40/150\n",
            "70/70 [==============================] - 0s 3ms/step - loss: 0.0309\n",
            "Epoch 41/150\n",
            "70/70 [==============================] - 0s 3ms/step - loss: 0.0306\n",
            "Epoch 42/150\n",
            "70/70 [==============================] - 0s 3ms/step - loss: 0.0301\n",
            "Epoch 43/150\n",
            "70/70 [==============================] - 0s 3ms/step - loss: 0.0298\n",
            "Epoch 44/150\n",
            "70/70 [==============================] - 0s 3ms/step - loss: 0.0295\n",
            "Epoch 45/150\n",
            "70/70 [==============================] - 0s 3ms/step - loss: 0.0291\n",
            "Epoch 46/150\n",
            "70/70 [==============================] - 0s 3ms/step - loss: 0.0289\n",
            "Epoch 47/150\n",
            "70/70 [==============================] - 0s 3ms/step - loss: 0.0285\n",
            "Epoch 48/150\n",
            "70/70 [==============================] - 0s 3ms/step - loss: 0.0283\n",
            "Epoch 49/150\n",
            "70/70 [==============================] - 0s 3ms/step - loss: 0.0280\n",
            "Epoch 50/150\n",
            "70/70 [==============================] - 0s 3ms/step - loss: 0.0277\n",
            "Epoch 51/150\n",
            "70/70 [==============================] - 0s 3ms/step - loss: 0.0275\n",
            "Epoch 52/150\n",
            "70/70 [==============================] - 0s 3ms/step - loss: 0.0272\n",
            "Epoch 53/150\n",
            "70/70 [==============================] - 0s 3ms/step - loss: 0.0270\n",
            "Epoch 54/150\n",
            "70/70 [==============================] - 0s 3ms/step - loss: 0.0268\n",
            "Epoch 55/150\n",
            "70/70 [==============================] - 0s 3ms/step - loss: 0.0264\n",
            "Epoch 56/150\n",
            "70/70 [==============================] - 0s 3ms/step - loss: 0.0263\n",
            "Epoch 57/150\n",
            "70/70 [==============================] - 0s 3ms/step - loss: 0.0260\n",
            "Epoch 58/150\n",
            "70/70 [==============================] - 0s 3ms/step - loss: 0.0259\n",
            "Epoch 59/150\n",
            "70/70 [==============================] - 0s 3ms/step - loss: 0.0257\n",
            "Epoch 60/150\n",
            "70/70 [==============================] - 0s 3ms/step - loss: 0.0255\n",
            "Epoch 61/150\n",
            "70/70 [==============================] - 0s 3ms/step - loss: 0.0253\n",
            "Epoch 62/150\n",
            "70/70 [==============================] - 0s 3ms/step - loss: 0.0251\n",
            "Epoch 63/150\n",
            "70/70 [==============================] - 0s 3ms/step - loss: 0.0248\n",
            "Epoch 64/150\n",
            "70/70 [==============================] - 0s 3ms/step - loss: 0.0246\n",
            "Epoch 65/150\n",
            "70/70 [==============================] - 0s 3ms/step - loss: 0.0245\n",
            "Epoch 66/150\n",
            "70/70 [==============================] - 0s 3ms/step - loss: 0.0243\n",
            "Epoch 67/150\n",
            "70/70 [==============================] - 0s 3ms/step - loss: 0.0241\n",
            "Epoch 68/150\n",
            "70/70 [==============================] - 0s 3ms/step - loss: 0.0239\n",
            "Epoch 69/150\n",
            "70/70 [==============================] - 0s 3ms/step - loss: 0.0238\n",
            "Epoch 70/150\n",
            "70/70 [==============================] - 0s 3ms/step - loss: 0.0236\n",
            "Epoch 71/150\n",
            "70/70 [==============================] - 0s 3ms/step - loss: 0.0234\n",
            "Epoch 72/150\n",
            "70/70 [==============================] - 0s 3ms/step - loss: 0.0233\n",
            "Epoch 73/150\n",
            "70/70 [==============================] - 0s 3ms/step - loss: 0.0232\n",
            "Epoch 74/150\n",
            "70/70 [==============================] - 0s 3ms/step - loss: 0.0230\n",
            "Epoch 75/150\n",
            "70/70 [==============================] - 0s 3ms/step - loss: 0.0228\n",
            "Epoch 76/150\n",
            "70/70 [==============================] - 0s 3ms/step - loss: 0.0227\n",
            "Epoch 77/150\n",
            "70/70 [==============================] - 0s 3ms/step - loss: 0.0225\n",
            "Epoch 78/150\n",
            "70/70 [==============================] - 0s 3ms/step - loss: 0.0224\n",
            "Epoch 79/150\n",
            "70/70 [==============================] - 0s 3ms/step - loss: 0.0222\n",
            "Epoch 80/150\n",
            "70/70 [==============================] - 0s 3ms/step - loss: 0.0221\n",
            "Epoch 81/150\n",
            "70/70 [==============================] - 0s 3ms/step - loss: 0.0220\n",
            "Epoch 82/150\n",
            "70/70 [==============================] - 0s 4ms/step - loss: 0.0219\n",
            "Epoch 83/150\n",
            "70/70 [==============================] - 0s 3ms/step - loss: 0.0217\n",
            "Epoch 84/150\n",
            "70/70 [==============================] - 0s 3ms/step - loss: 0.0215\n",
            "Epoch 85/150\n",
            "70/70 [==============================] - 0s 3ms/step - loss: 0.0214\n",
            "Epoch 86/150\n",
            "70/70 [==============================] - 0s 3ms/step - loss: 0.0213\n",
            "Epoch 87/150\n",
            "70/70 [==============================] - 0s 3ms/step - loss: 0.0213\n",
            "Epoch 88/150\n",
            "70/70 [==============================] - 0s 3ms/step - loss: 0.0211\n",
            "Epoch 89/150\n",
            "70/70 [==============================] - 0s 3ms/step - loss: 0.0210\n",
            "Epoch 90/150\n",
            "70/70 [==============================] - 0s 3ms/step - loss: 0.0208\n",
            "Epoch 91/150\n",
            "70/70 [==============================] - 0s 3ms/step - loss: 0.0207\n",
            "Epoch 92/150\n",
            "70/70 [==============================] - 0s 3ms/step - loss: 0.0207\n",
            "Epoch 93/150\n",
            "70/70 [==============================] - 0s 3ms/step - loss: 0.0205\n",
            "Epoch 94/150\n",
            "70/70 [==============================] - 0s 3ms/step - loss: 0.0204\n",
            "Epoch 95/150\n",
            "70/70 [==============================] - 0s 3ms/step - loss: 0.0203\n",
            "Epoch 96/150\n",
            "70/70 [==============================] - 0s 3ms/step - loss: 0.0202\n",
            "Epoch 97/150\n",
            "70/70 [==============================] - 0s 3ms/step - loss: 0.0201\n",
            "Epoch 98/150\n",
            "70/70 [==============================] - 0s 3ms/step - loss: 0.0199\n",
            "Epoch 99/150\n",
            "70/70 [==============================] - 0s 3ms/step - loss: 0.0198\n",
            "Epoch 100/150\n",
            "70/70 [==============================] - 0s 3ms/step - loss: 0.0198\n",
            "Epoch 101/150\n",
            "70/70 [==============================] - 0s 3ms/step - loss: 0.0196\n",
            "Epoch 102/150\n",
            "70/70 [==============================] - 0s 3ms/step - loss: 0.0196\n",
            "Epoch 103/150\n",
            "70/70 [==============================] - 0s 3ms/step - loss: 0.0194\n",
            "Epoch 104/150\n",
            "70/70 [==============================] - 0s 3ms/step - loss: 0.0193\n",
            "Epoch 105/150\n",
            "70/70 [==============================] - 0s 3ms/step - loss: 0.0192\n",
            "Epoch 106/150\n",
            "70/70 [==============================] - 0s 3ms/step - loss: 0.0191\n",
            "Epoch 107/150\n",
            "70/70 [==============================] - 0s 3ms/step - loss: 0.0190\n",
            "Epoch 108/150\n",
            "70/70 [==============================] - 0s 3ms/step - loss: 0.0190\n",
            "Epoch 109/150\n",
            "70/70 [==============================] - 0s 3ms/step - loss: 0.0188\n",
            "Epoch 110/150\n",
            "70/70 [==============================] - 0s 3ms/step - loss: 0.0187\n",
            "Epoch 111/150\n",
            "70/70 [==============================] - 0s 3ms/step - loss: 0.0187\n",
            "Epoch 112/150\n",
            "70/70 [==============================] - 0s 3ms/step - loss: 0.0185\n",
            "Epoch 113/150\n",
            "70/70 [==============================] - 0s 3ms/step - loss: 0.0184\n",
            "Epoch 114/150\n",
            "70/70 [==============================] - 0s 3ms/step - loss: 0.0185\n",
            "Epoch 115/150\n",
            "70/70 [==============================] - 0s 3ms/step - loss: 0.0182\n",
            "Epoch 116/150\n",
            "70/70 [==============================] - 0s 3ms/step - loss: 0.0182\n",
            "Epoch 117/150\n",
            "70/70 [==============================] - 0s 3ms/step - loss: 0.0181\n",
            "Epoch 118/150\n",
            "70/70 [==============================] - 0s 3ms/step - loss: 0.0181\n",
            "Epoch 119/150\n",
            "70/70 [==============================] - 0s 3ms/step - loss: 0.0179\n",
            "Epoch 120/150\n",
            "70/70 [==============================] - 0s 3ms/step - loss: 0.0179\n",
            "Epoch 121/150\n",
            "70/70 [==============================] - 0s 3ms/step - loss: 0.0178\n",
            "Epoch 122/150\n",
            "70/70 [==============================] - 0s 3ms/step - loss: 0.0178\n",
            "Epoch 123/150\n",
            "70/70 [==============================] - 0s 3ms/step - loss: 0.0176\n",
            "Epoch 124/150\n",
            "70/70 [==============================] - 0s 3ms/step - loss: 0.0176\n",
            "Epoch 125/150\n",
            "70/70 [==============================] - 0s 3ms/step - loss: 0.0175\n",
            "Epoch 126/150\n",
            "70/70 [==============================] - 0s 3ms/step - loss: 0.0174\n",
            "Epoch 127/150\n",
            "70/70 [==============================] - 0s 3ms/step - loss: 0.0173\n",
            "Epoch 128/150\n",
            "70/70 [==============================] - 0s 3ms/step - loss: 0.0173\n",
            "Epoch 129/150\n",
            "70/70 [==============================] - 0s 3ms/step - loss: 0.0172\n",
            "Epoch 130/150\n",
            "70/70 [==============================] - 0s 3ms/step - loss: 0.0171\n",
            "Epoch 131/150\n",
            "70/70 [==============================] - 0s 3ms/step - loss: 0.0170\n",
            "Epoch 132/150\n",
            "70/70 [==============================] - 0s 3ms/step - loss: 0.0170\n",
            "Epoch 133/150\n",
            "70/70 [==============================] - 0s 3ms/step - loss: 0.0168\n",
            "Epoch 134/150\n",
            "70/70 [==============================] - 0s 3ms/step - loss: 0.0167\n",
            "Epoch 135/150\n",
            "70/70 [==============================] - 0s 3ms/step - loss: 0.0168\n",
            "Epoch 136/150\n",
            "70/70 [==============================] - 0s 3ms/step - loss: 0.0167\n",
            "Epoch 137/150\n",
            "70/70 [==============================] - 0s 3ms/step - loss: 0.0167\n",
            "Epoch 138/150\n",
            "70/70 [==============================] - 0s 3ms/step - loss: 0.0165\n",
            "Epoch 139/150\n",
            "70/70 [==============================] - 0s 3ms/step - loss: 0.0165\n",
            "Epoch 140/150\n",
            "70/70 [==============================] - 0s 3ms/step - loss: 0.0165\n",
            "Epoch 141/150\n",
            "70/70 [==============================] - 0s 3ms/step - loss: 0.0163\n",
            "Epoch 142/150\n",
            "70/70 [==============================] - 0s 3ms/step - loss: 0.0162\n",
            "Epoch 143/150\n",
            "70/70 [==============================] - 0s 3ms/step - loss: 0.0161\n",
            "Epoch 144/150\n",
            "70/70 [==============================] - 0s 3ms/step - loss: 0.0161\n",
            "Epoch 145/150\n",
            "70/70 [==============================] - 0s 3ms/step - loss: 0.0162\n",
            "Epoch 146/150\n",
            "70/70 [==============================] - 0s 3ms/step - loss: 0.0159\n",
            "Epoch 147/150\n",
            "70/70 [==============================] - 0s 3ms/step - loss: 0.0159\n",
            "Epoch 148/150\n",
            "70/70 [==============================] - 0s 3ms/step - loss: 0.0159\n",
            "Epoch 149/150\n",
            "70/70 [==============================] - 0s 3ms/step - loss: 0.0158\n",
            "Epoch 150/150\n",
            "70/70 [==============================] - 0s 3ms/step - loss: 0.0157\n"
          ],
          "name": "stdout"
        }
      ]
    },
    {
      "cell_type": "markdown",
      "metadata": {
        "id": "S6oPo5pgePRc"
      },
      "source": [
        "Plotting the Loss function vs Epochs :"
      ]
    },
    {
      "cell_type": "code",
      "metadata": {
        "colab": {
          "base_uri": "https://localhost:8080/",
          "height": 296
        },
        "id": "3I4K4O-BcmRw",
        "outputId": "249cc7f5-8763-4b57-fcdd-e7a360ae26d3"
      },
      "source": [
        "tr_loss = hist.history['loss']\r\n",
        "plt.plot(tr_loss)\r\n",
        "plt.xlabel('Epochs')\r\n",
        "plt.ylabel('Training loss')\r\n",
        "plt.legend(['Training loss'])"
      ],
      "execution_count": 173,
      "outputs": [
        {
          "output_type": "execute_result",
          "data": {
            "text/plain": [
              "<matplotlib.legend.Legend at 0x7f42ad0c7390>"
            ]
          },
          "metadata": {
            "tags": []
          },
          "execution_count": 173
        },
        {
          "output_type": "display_data",
          "data": {
            "image/png": "[encoded data removed]",
            "text/plain": [
              "<Figure size 432x288 with 1 Axes>"
            ]
          },
          "metadata": {
            "tags": [],
            "needs_background": "light"
          }
        }
      ]
    },
    {
      "cell_type": "markdown",
      "metadata": {
        "id": "qmPA45CudqLg"
      },
      "source": [
        "The loss function is almost about to converge."
      ]
    },
    {
      "cell_type": "code",
      "metadata": {
        "colab": {
          "base_uri": "https://localhost:8080/"
        },
        "id": "4qZ565Q_eOG5",
        "outputId": "10446b90-812a-43db-cccf-8365f57d02a1"
      },
      "source": [
        "y_hat = model.predict(Xts)\r\n",
        "y_hat = (y_hat > 0.5)\r\n",
        "y_hat = y_hat.astype(\"uint8\")\r\n",
        "Simple_NN_Model_Accuracy = np.sum(y_hat == yts)/(yts.shape[0]*yts.shape[1])\r\n",
        "print(\" Accuracy of the designed simple NN : \",Simple_NN_Model_Accuracy)"
      ],
      "execution_count": 174,
      "outputs": [
        {
          "output_type": "stream",
          "text": [
            " Accuracy of the designed simple NN :  0.9913018518518518\n"
          ],
          "name": "stdout"
        }
      ]
    },
    {
      "cell_type": "markdown",
      "metadata": {
        "id": "H0EseGYie5mV"
      },
      "source": [
        "# Let us try using CNN's to check if you could get better results\r\n",
        "\r\n",
        "Adjust the shape of the input parameters before passing it through the CNN"
      ]
    },
    {
      "cell_type": "code",
      "metadata": {
        "colab": {
          "base_uri": "https://localhost:8080/"
        },
        "id": "i2KP4eQ-bTtk",
        "outputId": "a596ac2b-e65a-437d-f049-1a7727041a7f"
      },
      "source": [
        "X_scal = X_scal.reshape((X_scal.shape[0],X_scal.shape[1],1))\r\n",
        "Xtr, Xts, ytr, yts = train_test_split(X_scal,Y, test_size=0.30)\r\n",
        "\r\n",
        "K.clear_session()\r\n",
        "\r\n",
        "model = Sequential()\r\n",
        "model.add(Conv1D( filters = 16 , kernel_size = 9, strides = 3 , padding=\"valid\", activation='relu',input_shape=Xtr.shape[1:]))\r\n",
        "model.add(MaxPooling1D( pool_size=3 , strides=1, padding='valid' ))\r\n",
        "model.add(BatchNormalization())\r\n",
        "model.add(Conv1D( filters = 16 , kernel_size = 9, strides = 3 , padding=\"valid\", activation='relu',input_shape=Xtr.shape[1:]))\r\n",
        "model.add(MaxPooling1D( pool_size=3 , strides=1, padding='valid' ))\r\n",
        "model.add(Flatten())\r\n",
        "model.add(BatchNormalization())\r\n",
        "model.add(Dropout(0.1))\r\n",
        "model.add(Dense(16, activation = 'sigmoid'))\r\n",
        "model.add(BatchNormalization())\r\n",
        "model.add(Dropout(0.1))\r\n",
        "model.add(Dense(num_outputs, activation='sigmoid'))\r\n",
        "\r\n",
        "model.summary()"
      ],
      "execution_count": 175,
      "outputs": [
        {
          "output_type": "stream",
          "text": [
            "Model: \"sequential\"\n",
            "_________________________________________________________________\n",
            "Layer (type)                 Output Shape              Param #   \n",
            "=================================================================\n",
            "conv1d (Conv1D)              (None, 58, 16)            160       \n",
            "_________________________________________________________________\n",
            "max_pooling1d (MaxPooling1D) (None, 56, 16)            0         \n",
            "_________________________________________________________________\n",
            "batch_normalization (BatchNo (None, 56, 16)            64        \n",
            "_________________________________________________________________\n",
            "conv1d_1 (Conv1D)            (None, 16, 16)            2320      \n",
            "_________________________________________________________________\n",
            "max_pooling1d_1 (MaxPooling1 (None, 14, 16)            0         \n",
            "_________________________________________________________________\n",
            "flatten (Flatten)            (None, 224)               0         \n",
            "_________________________________________________________________\n",
            "batch_normalization_1 (Batch (None, 224)               896       \n",
            "_________________________________________________________________\n",
            "dropout (Dropout)            (None, 224)               0         \n",
            "_________________________________________________________________\n",
            "dense (Dense)                (None, 16)                3600      \n",
            "_________________________________________________________________\n",
            "batch_normalization_2 (Batch (None, 16)                64        \n",
            "_________________________________________________________________\n",
            "dropout_1 (Dropout)          (None, 16)                0         \n",
            "_________________________________________________________________\n",
            "dense_1 (Dense)              (None, 180)               3060      \n",
            "=================================================================\n",
            "Total params: 10,164\n",
            "Trainable params: 9,652\n",
            "Non-trainable params: 512\n",
            "_________________________________________________________________\n"
          ],
          "name": "stdout"
        }
      ]
    },
    {
      "cell_type": "markdown",
      "metadata": {
        "id": "kwps3DAwf1kd"
      },
      "source": [
        "Note :\r\n",
        "\r\n",
        "There are reasonably less number of trainable parameters compared to previous NN. Hence, Convergence is possible.\r\n",
        "\r\n",
        "# Fit the designed CNN to the given training data"
      ]
    },
    {
      "cell_type": "code",
      "metadata": {
        "colab": {
          "base_uri": "https://localhost:8080/"
        },
        "id": "vBMThS_3gccY",
        "outputId": "9058ce03-6b73-45a9-e771-5e8bebbb3678"
      },
      "source": [
        "from tensorflow.keras import optimizers\r\n",
        "\r\n",
        "opt = optimizers.Adam(lr=0.001)\r\n",
        "model.compile(optimizer=opt,loss='binary_crossentropy')\r\n",
        "\r\n",
        "hist = model.fit(Xtr, ytr, epochs=150, batch_size=100)"
      ],
      "execution_count": 176,
      "outputs": [
        {
          "output_type": "stream",
          "text": [
            "Epoch 1/150\n",
            "70/70 [==============================] - 1s 11ms/step - loss: 0.6041\n",
            "Epoch 2/150\n",
            "70/70 [==============================] - 1s 11ms/step - loss: 0.4581\n",
            "Epoch 3/150\n",
            "70/70 [==============================] - 1s 11ms/step - loss: 0.3419\n",
            "Epoch 4/150\n",
            "70/70 [==============================] - 1s 11ms/step - loss: 0.2469\n",
            "Epoch 5/150\n",
            "70/70 [==============================] - 1s 11ms/step - loss: 0.1849\n",
            "Epoch 6/150\n",
            "70/70 [==============================] - 1s 11ms/step - loss: 0.1476\n",
            "Epoch 7/150\n",
            "70/70 [==============================] - 1s 11ms/step - loss: 0.1232\n",
            "Epoch 8/150\n",
            "70/70 [==============================] - 1s 11ms/step - loss: 0.1081\n",
            "Epoch 9/150\n",
            "70/70 [==============================] - 1s 11ms/step - loss: 0.0959\n",
            "Epoch 10/150\n",
            "70/70 [==============================] - 1s 11ms/step - loss: 0.0857\n",
            "Epoch 11/150\n",
            "70/70 [==============================] - 1s 11ms/step - loss: 0.0799\n",
            "Epoch 12/150\n",
            "70/70 [==============================] - 1s 11ms/step - loss: 0.0745\n",
            "Epoch 13/150\n",
            "70/70 [==============================] - 1s 11ms/step - loss: 0.0694\n",
            "Epoch 14/150\n",
            "70/70 [==============================] - 1s 11ms/step - loss: 0.0673\n",
            "Epoch 15/150\n",
            "70/70 [==============================] - 1s 11ms/step - loss: 0.0645\n",
            "Epoch 16/150\n",
            "70/70 [==============================] - 1s 11ms/step - loss: 0.0621\n",
            "Epoch 17/150\n",
            "70/70 [==============================] - 1s 11ms/step - loss: 0.0603\n",
            "Epoch 18/150\n",
            "70/70 [==============================] - 1s 11ms/step - loss: 0.0575\n",
            "Epoch 19/150\n",
            "70/70 [==============================] - 1s 11ms/step - loss: 0.0566\n",
            "Epoch 20/150\n",
            "70/70 [==============================] - 1s 11ms/step - loss: 0.0542\n",
            "Epoch 21/150\n",
            "70/70 [==============================] - 1s 11ms/step - loss: 0.0524\n",
            "Epoch 22/150\n",
            "70/70 [==============================] - 1s 11ms/step - loss: 0.0509\n",
            "Epoch 23/150\n",
            "70/70 [==============================] - 1s 11ms/step - loss: 0.0495\n",
            "Epoch 24/150\n",
            "70/70 [==============================] - 1s 11ms/step - loss: 0.0491\n",
            "Epoch 25/150\n",
            "70/70 [==============================] - 1s 11ms/step - loss: 0.0476\n",
            "Epoch 26/150\n",
            "70/70 [==============================] - 1s 11ms/step - loss: 0.0478\n",
            "Epoch 27/150\n",
            "70/70 [==============================] - 1s 11ms/step - loss: 0.0478\n",
            "Epoch 28/150\n",
            "70/70 [==============================] - 1s 11ms/step - loss: 0.0453\n",
            "Epoch 29/150\n",
            "70/70 [==============================] - 1s 11ms/step - loss: 0.0444\n",
            "Epoch 30/150\n",
            "70/70 [==============================] - 1s 11ms/step - loss: 0.0440\n",
            "Epoch 31/150\n",
            "70/70 [==============================] - 1s 11ms/step - loss: 0.0440\n",
            "Epoch 32/150\n",
            "70/70 [==============================] - 1s 11ms/step - loss: 0.0430\n",
            "Epoch 33/150\n",
            "70/70 [==============================] - 1s 11ms/step - loss: 0.0431\n",
            "Epoch 34/150\n",
            "70/70 [==============================] - 1s 11ms/step - loss: 0.0414\n",
            "Epoch 35/150\n",
            "70/70 [==============================] - 1s 11ms/step - loss: 0.0405\n",
            "Epoch 36/150\n",
            "70/70 [==============================] - 1s 11ms/step - loss: 0.0407\n",
            "Epoch 37/150\n",
            "70/70 [==============================] - 1s 11ms/step - loss: 0.0407\n",
            "Epoch 38/150\n",
            "70/70 [==============================] - 1s 11ms/step - loss: 0.0396\n",
            "Epoch 39/150\n",
            "70/70 [==============================] - 1s 11ms/step - loss: 0.0401\n",
            "Epoch 40/150\n",
            "70/70 [==============================] - 1s 11ms/step - loss: 0.0391\n",
            "Epoch 41/150\n",
            "70/70 [==============================] - 1s 11ms/step - loss: 0.0384\n",
            "Epoch 42/150\n",
            "70/70 [==============================] - 1s 11ms/step - loss: 0.0375\n",
            "Epoch 43/150\n",
            "70/70 [==============================] - 1s 11ms/step - loss: 0.0371\n",
            "Epoch 44/150\n",
            "70/70 [==============================] - 1s 11ms/step - loss: 0.0377\n",
            "Epoch 45/150\n",
            "70/70 [==============================] - 1s 11ms/step - loss: 0.0373\n",
            "Epoch 46/150\n",
            "70/70 [==============================] - 1s 11ms/step - loss: 0.0375\n",
            "Epoch 47/150\n",
            "70/70 [==============================] - 1s 11ms/step - loss: 0.0352\n",
            "Epoch 48/150\n",
            "70/70 [==============================] - 1s 11ms/step - loss: 0.0361\n",
            "Epoch 49/150\n",
            "70/70 [==============================] - 1s 11ms/step - loss: 0.0369\n",
            "Epoch 50/150\n",
            "70/70 [==============================] - 1s 11ms/step - loss: 0.0362\n",
            "Epoch 51/150\n",
            "70/70 [==============================] - 1s 11ms/step - loss: 0.0352\n",
            "Epoch 52/150\n",
            "70/70 [==============================] - 1s 11ms/step - loss: 0.0360\n",
            "Epoch 53/150\n",
            "70/70 [==============================] - 1s 11ms/step - loss: 0.0353\n",
            "Epoch 54/150\n",
            "70/70 [==============================] - 1s 11ms/step - loss: 0.0354\n",
            "Epoch 55/150\n",
            "70/70 [==============================] - 1s 11ms/step - loss: 0.0352\n",
            "Epoch 56/150\n",
            "70/70 [==============================] - 1s 11ms/step - loss: 0.0352\n",
            "Epoch 57/150\n",
            "70/70 [==============================] - 1s 11ms/step - loss: 0.0344\n",
            "Epoch 58/150\n",
            "70/70 [==============================] - 1s 11ms/step - loss: 0.0346\n",
            "Epoch 59/150\n",
            "70/70 [==============================] - 1s 11ms/step - loss: 0.0333\n",
            "Epoch 60/150\n",
            "70/70 [==============================] - 1s 12ms/step - loss: 0.0342\n",
            "Epoch 61/150\n",
            "70/70 [==============================] - 1s 12ms/step - loss: 0.0345\n",
            "Epoch 62/150\n",
            "70/70 [==============================] - 1s 11ms/step - loss: 0.0331\n",
            "Epoch 63/150\n",
            "70/70 [==============================] - 1s 11ms/step - loss: 0.0337\n",
            "Epoch 64/150\n",
            "70/70 [==============================] - 1s 12ms/step - loss: 0.0339\n",
            "Epoch 65/150\n",
            "70/70 [==============================] - 1s 11ms/step - loss: 0.0328\n",
            "Epoch 66/150\n",
            "70/70 [==============================] - 1s 11ms/step - loss: 0.0332\n",
            "Epoch 67/150\n",
            "70/70 [==============================] - 1s 12ms/step - loss: 0.0342\n",
            "Epoch 68/150\n",
            "70/70 [==============================] - 1s 11ms/step - loss: 0.0329\n",
            "Epoch 69/150\n",
            "70/70 [==============================] - 1s 11ms/step - loss: 0.0333\n",
            "Epoch 70/150\n",
            "70/70 [==============================] - 1s 11ms/step - loss: 0.0332\n",
            "Epoch 71/150\n",
            "70/70 [==============================] - 1s 12ms/step - loss: 0.0331\n",
            "Epoch 72/150\n",
            "70/70 [==============================] - 1s 11ms/step - loss: 0.0326\n",
            "Epoch 73/150\n",
            "70/70 [==============================] - 1s 11ms/step - loss: 0.0322\n",
            "Epoch 74/150\n",
            "70/70 [==============================] - 1s 12ms/step - loss: 0.0340\n",
            "Epoch 75/150\n",
            "70/70 [==============================] - 1s 11ms/step - loss: 0.0320\n",
            "Epoch 76/150\n",
            "70/70 [==============================] - 1s 12ms/step - loss: 0.0326\n",
            "Epoch 77/150\n",
            "70/70 [==============================] - 1s 11ms/step - loss: 0.0313\n",
            "Epoch 78/150\n",
            "70/70 [==============================] - 1s 11ms/step - loss: 0.0329\n",
            "Epoch 79/150\n",
            "70/70 [==============================] - 1s 11ms/step - loss: 0.0315\n",
            "Epoch 80/150\n",
            "70/70 [==============================] - 1s 11ms/step - loss: 0.0314\n",
            "Epoch 81/150\n",
            "70/70 [==============================] - 1s 11ms/step - loss: 0.0317\n",
            "Epoch 82/150\n",
            "70/70 [==============================] - 1s 12ms/step - loss: 0.0316\n",
            "Epoch 83/150\n",
            "70/70 [==============================] - 1s 11ms/step - loss: 0.0312\n",
            "Epoch 84/150\n",
            "70/70 [==============================] - 1s 11ms/step - loss: 0.0316\n",
            "Epoch 85/150\n",
            "70/70 [==============================] - 1s 12ms/step - loss: 0.0311\n",
            "Epoch 86/150\n",
            "70/70 [==============================] - 1s 11ms/step - loss: 0.0314\n",
            "Epoch 87/150\n",
            "70/70 [==============================] - 1s 12ms/step - loss: 0.0317\n",
            "Epoch 88/150\n",
            "70/70 [==============================] - 1s 11ms/step - loss: 0.0316\n",
            "Epoch 89/150\n",
            "70/70 [==============================] - 1s 11ms/step - loss: 0.0311\n",
            "Epoch 90/150\n",
            "70/70 [==============================] - 1s 11ms/step - loss: 0.0316\n",
            "Epoch 91/150\n",
            "70/70 [==============================] - 1s 12ms/step - loss: 0.0310\n",
            "Epoch 92/150\n",
            "70/70 [==============================] - 1s 12ms/step - loss: 0.0306\n",
            "Epoch 93/150\n",
            "70/70 [==============================] - 1s 11ms/step - loss: 0.0308\n",
            "Epoch 94/150\n",
            "70/70 [==============================] - 1s 11ms/step - loss: 0.0314\n",
            "Epoch 95/150\n",
            "70/70 [==============================] - 1s 12ms/step - loss: 0.0309\n",
            "Epoch 96/150\n",
            "70/70 [==============================] - 1s 11ms/step - loss: 0.0315\n",
            "Epoch 97/150\n",
            "70/70 [==============================] - 1s 12ms/step - loss: 0.0303\n",
            "Epoch 98/150\n",
            "70/70 [==============================] - 1s 11ms/step - loss: 0.0303\n",
            "Epoch 99/150\n",
            "70/70 [==============================] - 1s 11ms/step - loss: 0.0306\n",
            "Epoch 100/150\n",
            "70/70 [==============================] - 1s 11ms/step - loss: 0.0306\n",
            "Epoch 101/150\n",
            "70/70 [==============================] - 1s 12ms/step - loss: 0.0310\n",
            "Epoch 102/150\n",
            "70/70 [==============================] - 1s 11ms/step - loss: 0.0294\n",
            "Epoch 103/150\n",
            "70/70 [==============================] - 1s 11ms/step - loss: 0.0292\n",
            "Epoch 104/150\n",
            "70/70 [==============================] - 1s 12ms/step - loss: 0.0300\n",
            "Epoch 105/150\n",
            "70/70 [==============================] - 1s 12ms/step - loss: 0.0303\n",
            "Epoch 106/150\n",
            "70/70 [==============================] - 1s 11ms/step - loss: 0.0297\n",
            "Epoch 107/150\n",
            "70/70 [==============================] - 1s 12ms/step - loss: 0.0299\n",
            "Epoch 108/150\n",
            "70/70 [==============================] - 1s 12ms/step - loss: 0.0284\n",
            "Epoch 109/150\n",
            "70/70 [==============================] - 1s 11ms/step - loss: 0.0293\n",
            "Epoch 110/150\n",
            "70/70 [==============================] - 1s 11ms/step - loss: 0.0291\n",
            "Epoch 111/150\n",
            "70/70 [==============================] - 1s 11ms/step - loss: 0.0311\n",
            "Epoch 112/150\n",
            "70/70 [==============================] - 1s 11ms/step - loss: 0.0299\n",
            "Epoch 113/150\n",
            "70/70 [==============================] - 1s 11ms/step - loss: 0.0300\n",
            "Epoch 114/150\n",
            "70/70 [==============================] - 1s 11ms/step - loss: 0.0287\n",
            "Epoch 115/150\n",
            "70/70 [==============================] - 1s 11ms/step - loss: 0.0292\n",
            "Epoch 116/150\n",
            "70/70 [==============================] - 1s 11ms/step - loss: 0.0293\n",
            "Epoch 117/150\n",
            "70/70 [==============================] - 1s 12ms/step - loss: 0.0285\n",
            "Epoch 118/150\n",
            "70/70 [==============================] - 1s 12ms/step - loss: 0.0296\n",
            "Epoch 119/150\n",
            "70/70 [==============================] - 1s 11ms/step - loss: 0.0296\n",
            "Epoch 120/150\n",
            "70/70 [==============================] - 1s 11ms/step - loss: 0.0290\n",
            "Epoch 121/150\n",
            "70/70 [==============================] - 1s 12ms/step - loss: 0.0287\n",
            "Epoch 122/150\n",
            "70/70 [==============================] - 1s 11ms/step - loss: 0.0297\n",
            "Epoch 123/150\n",
            "70/70 [==============================] - 1s 11ms/step - loss: 0.0295\n",
            "Epoch 124/150\n",
            "70/70 [==============================] - 1s 12ms/step - loss: 0.0293\n",
            "Epoch 125/150\n",
            "70/70 [==============================] - 1s 11ms/step - loss: 0.0291\n",
            "Epoch 126/150\n",
            "70/70 [==============================] - 1s 11ms/step - loss: 0.0293\n",
            "Epoch 127/150\n",
            "70/70 [==============================] - 1s 11ms/step - loss: 0.0296\n",
            "Epoch 128/150\n",
            "70/70 [==============================] - 1s 11ms/step - loss: 0.0287\n",
            "Epoch 129/150\n",
            "70/70 [==============================] - 1s 11ms/step - loss: 0.0295\n",
            "Epoch 130/150\n",
            "70/70 [==============================] - 1s 11ms/step - loss: 0.0292\n",
            "Epoch 131/150\n",
            "70/70 [==============================] - 1s 11ms/step - loss: 0.0288\n",
            "Epoch 132/150\n",
            "70/70 [==============================] - 1s 11ms/step - loss: 0.0286\n",
            "Epoch 133/150\n",
            "70/70 [==============================] - 1s 11ms/step - loss: 0.0290\n",
            "Epoch 134/150\n",
            "70/70 [==============================] - 1s 12ms/step - loss: 0.0282\n",
            "Epoch 135/150\n",
            "70/70 [==============================] - 1s 11ms/step - loss: 0.0278\n",
            "Epoch 136/150\n",
            "70/70 [==============================] - 1s 11ms/step - loss: 0.0287\n",
            "Epoch 137/150\n",
            "70/70 [==============================] - 1s 11ms/step - loss: 0.0289\n",
            "Epoch 138/150\n",
            "70/70 [==============================] - 1s 11ms/step - loss: 0.0282\n",
            "Epoch 139/150\n",
            "70/70 [==============================] - 1s 11ms/step - loss: 0.0281\n",
            "Epoch 140/150\n",
            "70/70 [==============================] - 1s 11ms/step - loss: 0.0286\n",
            "Epoch 141/150\n",
            "70/70 [==============================] - 1s 11ms/step - loss: 0.0277\n",
            "Epoch 142/150\n",
            "70/70 [==============================] - 1s 11ms/step - loss: 0.0285\n",
            "Epoch 143/150\n",
            "70/70 [==============================] - 1s 11ms/step - loss: 0.0284\n",
            "Epoch 144/150\n",
            "70/70 [==============================] - 1s 11ms/step - loss: 0.0285\n",
            "Epoch 145/150\n",
            "70/70 [==============================] - 1s 11ms/step - loss: 0.0281\n",
            "Epoch 146/150\n",
            "70/70 [==============================] - 1s 11ms/step - loss: 0.0282\n",
            "Epoch 147/150\n",
            "70/70 [==============================] - 1s 11ms/step - loss: 0.0273\n",
            "Epoch 148/150\n",
            "70/70 [==============================] - 1s 11ms/step - loss: 0.0286\n",
            "Epoch 149/150\n",
            "70/70 [==============================] - 1s 11ms/step - loss: 0.0276\n",
            "Epoch 150/150\n",
            "70/70 [==============================] - 1s 11ms/step - loss: 0.0279\n"
          ],
          "name": "stdout"
        }
      ]
    },
    {
      "cell_type": "markdown",
      "metadata": {
        "id": "kWGGa4g2g4an"
      },
      "source": [
        "Plotting the Loss function vs Epochs :"
      ]
    },
    {
      "cell_type": "code",
      "metadata": {
        "colab": {
          "base_uri": "https://localhost:8080/",
          "height": 296
        },
        "id": "wmr7m0BfCIgW",
        "outputId": "a35bf328-468a-4a71-f8a9-033a76fe196f"
      },
      "source": [
        "tr_loss = hist.history['loss']\r\n",
        "plt.plot(tr_loss)\r\n",
        "plt.xlabel('Epochs')\r\n",
        "plt.ylabel('Training loss')\r\n",
        "plt.legend(['Training loss'])"
      ],
      "execution_count": 177,
      "outputs": [
        {
          "output_type": "execute_result",
          "data": {
            "text/plain": [
              "<matplotlib.legend.Legend at 0x7f42b2c3f588>"
            ]
          },
          "metadata": {
            "tags": []
          },
          "execution_count": 177
        },
        {
          "output_type": "display_data",
          "data": {
            "image/png": "[encoded data removed]",
            "text/plain": [
              "<Figure size 432x288 with 1 Axes>"
            ]
          },
          "metadata": {
            "tags": [],
            "needs_background": "light"
          }
        }
      ]
    },
    {
      "cell_type": "markdown",
      "metadata": {
        "id": "blLGQIq0hrKa"
      },
      "source": [
        "The loss function seems to converge."
      ]
    },
    {
      "cell_type": "code",
      "metadata": {
        "colab": {
          "base_uri": "https://localhost:8080/"
        },
        "id": "ZV93AETWGIus",
        "outputId": "98c64c1a-15ce-4de2-f4a2-e96332c834f2"
      },
      "source": [
        "y_hat = model.predict(Xts)\r\n",
        "y_hat = (y_hat > 0.5)\r\n",
        "y_hat = y_hat.astype(\"uint8\")\r\n",
        "CNN_Model_Accuracy = np.sum(y_hat == yts)/(yts.shape[0]*yts.shape[1])\r\n",
        "print(\" Accuracy of the designed CNN : \",CNN_Model_Accuracy)"
      ],
      "execution_count": 178,
      "outputs": [
        {
          "output_type": "stream",
          "text": [
            " Accuracy of the designed CNN :  0.9963425925925926\n"
          ],
          "name": "stdout"
        }
      ]
    },
    {
      "cell_type": "markdown",
      "metadata": {
        "id": "AudIe6MBhwq1"
      },
      "source": [
        "We can observe that the accuracy of the CNN is slightly better than that of the simple NN.\r\n",
        "\r\n",
        "# Let us plot a single sample and compare results :"
      ]
    },
    {
      "cell_type": "code",
      "metadata": {
        "colab": {
          "base_uri": "https://localhost:8080/",
          "height": 295
        },
        "id": "sPXcI3-6iaq7",
        "outputId": "6df7c593-f48e-4d2c-a9f8-39fe09474a96"
      },
      "source": [
        "rand_index = np.random.randint(0, high=Xts.shape[0])\r\n",
        "X_sample = Xts[rand_index]\r\n",
        "Y_sample = yts[rand_index]\r\n",
        "y_hat_sample = y_hat[rand_index]\r\n",
        "\r\n",
        "temp_1 = (y_hat_sample & Y_sample) + 2*(y_hat_sample != Y_sample)\r\n",
        "x_1 = []\r\n",
        "y_1 = []\r\n",
        "x_2 = []\r\n",
        "y_2 = []\r\n",
        "x_3 = []\r\n",
        "y_3 = []\r\n",
        "for i1 in range(len(temp_1)):\r\n",
        "  if X_sample[i1] != 1:\r\n",
        "    if temp_1[i1] == 0:\r\n",
        "      x_1.append(10*X_sample[i1]*np.cos(2*np.pi*i1/360))\r\n",
        "      y_1.append(10*X_sample[i1]*np.sin(2*np.pi*i1/360))\r\n",
        "    if temp_1[i1] == 1:\r\n",
        "      x_2.append(10*X_sample[i1]*np.cos(2*np.pi*i1/360))\r\n",
        "      y_2.append(10*X_sample[i1]*np.sin(2*np.pi*i1/360))\r\n",
        "    if temp_1[i1] == 2:\r\n",
        "      x_3.append(10*X_sample[i1]*np.cos(2*np.pi*i1/360))\r\n",
        "      y_3.append(10*X_sample[i1]*np.sin(2*np.pi*i1/360))\r\n",
        "\r\n",
        "plt.plot(x_1,y_1,\"^c\",x_2,y_2,\"^g\",x_3,y_3,\"sb\",0,0,\"sr\")\r\n",
        "plt.xlim((-10, 10))\r\n",
        "plt.ylim((-1, 10))\r\n",
        "plt.xlabel('x-axis')\r\n",
        "plt.ylabel('y-axis')\r\n",
        "plt.title(\"RpLidar Map\")\r\n",
        "plt.legend(labels=(\"Surrounding Environment\",\"Desired Detection\",\"Misclassified objects\",\"Radar Origin\"))\r\n",
        "plt.grid(True)"
      ],
      "execution_count": 268,
      "outputs": [
        {
          "output_type": "display_data",
          "data": {
            "image/png": "[encoded data removed]",
            "text/plain": [
              "<Figure size 432x288 with 1 Axes>"
            ]
          },
          "metadata": {
            "tags": [],
            "needs_background": "light"
          }
        }
      ]
    },
    {
      "cell_type": "markdown",
      "metadata": {
        "id": "lWbDzZNCqum9"
      },
      "source": [
        "# We can observe that the classifier has done a fair job in the identifying the right cube structure in the scan field.\r\n",
        "\r\n",
        "==================================================================================================================\r\n",
        "\r\n",
        "# Finally, Let us focus on the objective of project to predict the boundaries of the desired object in the scan field. "
      ]
    },
    {
      "cell_type": "code",
      "metadata": {
        "id": "z739tOTDziA_"
      },
      "source": [
        "y_target = np.zeros((y_hat.shape[0],2))\r\n",
        "for i1 in range(y_hat.shape[0]):\r\n",
        "  Y_sample = y_hat[i1]\r\n",
        "  start_i = -1\r\n",
        "  max_size = 0\r\n",
        "  start_i_temp = -1\r\n",
        "  max_size_temp = 0\r\n",
        "  counting = False\r\n",
        "  for i2 in range(Y_sample.shape[0]):\r\n",
        "    if counting and (Y_sample[i2] == 0) :\r\n",
        "      counting = False\r\n",
        "      if max_size_temp > max_size:\r\n",
        "        start_i = start_i_temp\r\n",
        "        max_size = max_size_temp\r\n",
        "      start_i_temp = -1\r\n",
        "      max_size_temp = 0\r\n",
        "    if (Y_sample[i2] == 1):\r\n",
        "      if (counting == False) :\r\n",
        "        counting = True\r\n",
        "        start_i_temp = i2\r\n",
        "      max_size_temp = max_size_temp + 1\r\n",
        "      if ([i2] == Y_sample.shape[0] - 1) and (max_size_temp > max_size):\r\n",
        "        start_i = start_i_temp\r\n",
        "        max_size = max_size_temp\r\n",
        "  y_target[i1,:] = [start_i,start_i+max_size-1]"
      ],
      "execution_count": 261,
      "outputs": []
    },
    {
      "cell_type": "markdown",
      "metadata": {
        "id": "ySaMrfcw7HU6"
      },
      "source": [
        "# Visualizing the outputs y1 and y2 :"
      ]
    },
    {
      "cell_type": "code",
      "metadata": {
        "colab": {
          "base_uri": "https://localhost:8080/",
          "height": 295
        },
        "id": "HZ-472KG7GxC",
        "outputId": "bbb0002a-370f-4229-fe88-5445d19af32f"
      },
      "source": [
        "rand_index = np.random.randint(0, high=Xts.shape[0])\r\n",
        "X_sample = Xts[rand_index]\r\n",
        "y_hat_sample = y_hat[rand_index]\r\n",
        "y_hat_sample[int(y_target[rand_index,0])] = 2\r\n",
        "y_hat_sample[int(y_target[rand_index,1])] = 2\r\n",
        "\r\n",
        "x_1 = []\r\n",
        "y_1 = []\r\n",
        "x_2 = []\r\n",
        "y_2 = []\r\n",
        "x_3 = []\r\n",
        "y_3 = []\r\n",
        "for i1 in range(len(y_hat_sample)):\r\n",
        "  if X_sample[i1] != 1:\r\n",
        "    if y_hat_sample[i1] == 0:\r\n",
        "      x_1.append(10*X_sample[i1]*np.cos(2*np.pi*i1/360))\r\n",
        "      y_1.append(10*X_sample[i1]*np.sin(2*np.pi*i1/360))\r\n",
        "    if y_hat_sample[i1] == 1:\r\n",
        "      x_2.append(10*X_sample[i1]*np.cos(2*np.pi*i1/360))\r\n",
        "      y_2.append(10*X_sample[i1]*np.sin(2*np.pi*i1/360))\r\n",
        "    if y_hat_sample[i1] == 2:\r\n",
        "      x_3.append(10*X_sample[i1]*np.cos(2*np.pi*i1/360))\r\n",
        "      y_3.append(10*X_sample[i1]*np.sin(2*np.pi*i1/360))\r\n",
        "\r\n",
        "plt.plot(x_1,y_1,\"^c\",x_2,y_2,\"^g\",x_3,y_3,\"sb\",0,0,\"sr\")\r\n",
        "plt.xlim((-10, 10))\r\n",
        "plt.ylim((-1, 10))\r\n",
        "plt.xlabel('x-axis')\r\n",
        "plt.ylabel('y-axis')\r\n",
        "plt.title(\"RpLidar Map\")\r\n",
        "plt.legend(labels=(\"Surrounding Environment\",\"Desired Detection\",\"Predicted boundaries, y1 & y2\",\"Radar Origin\"))\r\n",
        "plt.grid(True)"
      ],
      "execution_count": 262,
      "outputs": [
        {
          "output_type": "display_data",
          "data": {
            "image/png": "[encoded data removed]",
            "text/plain": [
              "<Figure size 432x288 with 1 Axes>"
            ]
          },
          "metadata": {
            "tags": [],
            "needs_background": "light"
          }
        }
      ]
    },
    {
      "cell_type": "markdown",
      "metadata": {
        "id": "3B4d4MPaOznA"
      },
      "source": [
        "# We can observe that the classifier has identified the boundaries of the desired object right in the scan field.\r\n",
        "\r\n",
        "#**Future Scope :**\r\n",
        "\r\n",
        "# The main idea of this project was to explore the potenial of machine learning to predict the presence of a desired object in the scan field of the LIDAR. If a model could be trained to detect the structure of a cube irrespective of its relative position and orientation, then similarly an equivalent model could be trained to detect any object of a specified structure.\r\n",
        "\r\n",
        "# Given y1 and y2 could be obtained from the input features x, the approx. centriod of the object and the closet point to the object could be determined. These are some of the fundamental problems faced in robot navigation and localization."
      ]
    }
  ]
}